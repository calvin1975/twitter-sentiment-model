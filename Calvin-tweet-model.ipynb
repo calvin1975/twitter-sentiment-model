{
 "metadata": {
  "language_info": {
   "codemirror_mode": {
    "name": "ipython",
    "version": 3
   },
   "file_extension": ".py",
   "mimetype": "text/x-python",
   "name": "python",
   "nbconvert_exporter": "python",
   "pygments_lexer": "ipython3",
   "version": "3.7.3-final"
  },
  "orig_nbformat": 2,
  "kernelspec": {
   "name": "python_defaultSpec_1598761160715",
   "display_name": "Python 3.7.3 64-bit ('base': conda)"
  }
 },
 "nbformat": 4,
 "nbformat_minor": 2,
 "cells": [
  {
   "cell_type": "code",
   "execution_count": 3,
   "metadata": {},
   "outputs": [],
   "source": [
    "import pandas as pd\n",
    "import numpy as np\n",
    "import re\n",
    "import string\n",
    "# import nltk\n",
    "# nltk.download('stopwords')\n",
    "# nltk.download('punkt')\n",
    "from nltk.corpus import stopwords\n",
    "from nltk.tokenize import word_tokenize\n",
    "from sklearn.feature_extraction.text import TfidfVectorizer\n",
    "from sklearn.model_selection import train_test_split\n",
    "from nltk.stem import PorterStemmer\n",
    "from nltk.stem import WordNetLemmatizer\n",
    "# ML Libraries\n",
    "from sklearn.metrics import accuracy_score\n",
    "from sklearn.naive_bayes import MultinomialNB\n",
    "from sklearn.linear_model import LogisticRegression\n",
    "from sklearn.svm import SVC\n",
    "\n",
    "# Global Parameters\n",
    "stop_words = set(stopwords.words('english'))"
   ]
  },
  {
   "cell_type": "code",
   "execution_count": 4,
   "metadata": {},
   "outputs": [],
   "source": [
    "### Define all functions needed\n",
    "\n",
    "# Pre-processing Tweets text data\n",
    "def preprocess_tweet_text(tweet):\n",
    "    # Letter casing: Converting all letters to lower case (or upper case )\n",
    "    tweet = str(tweet).lower()\n",
    "    # Remove urls\n",
    "    tweet = re.sub(r\"http\\S+|www\\S+|https\\S+\", '', tweet, flags=re.MULTILINE)\n",
    "    # Remove user @ references and '#' from tweet\n",
    "    tweet = re.sub(r'\\@\\w+|\\#','', tweet)\n",
    "    # Remove punctuations\n",
    "    tweet = tweet.translate(str.maketrans('', '', string.punctuation))\n",
    "    # Remove stopwords, Tokenizing: Turning the tweets into tokens. Tokens are words separated by spaces in a text\n",
    "    tweet_tokens = word_tokenize(tweet)\n",
    "    filtered_words = [w for w in tweet_tokens if not w in stop_words]\n",
    "    \n",
    "    #ps = PorterStemmer()\n",
    "    #stemmed_words = [ps.stem(w) for w in filtered_words]\n",
    "    #lemmatizer = WordNetLemmatizer()\n",
    "    #lemma_words = [lemmatizer.lemmatize(w, pos='a') for w in stemmed_words]\n",
    "    \n",
    "    return \" \".join(filtered_words)\n",
    "\n",
    "# Vectorizing Data: Vectorizing is the process to convert tokens to numbers\n",
    "def get_feature_vector(train_fit):\n",
    "    vector = TfidfVectorizer(sublinear_tf=True)\n",
    "    vector.fit(train_fit)\n",
    "    return vector\n",
    "    \n",
    "### Important Note: I am using the dataset as the corpus to make a tf-idf vector. The same vector structure should be used for training and testing purposes.\n"
   ]
  },
  {
   "cell_type": "code",
   "execution_count": 5,
   "metadata": {
    "tags": []
   },
   "outputs": [
    {
     "output_type": "execute_result",
     "data": {
      "text/plain": "                                                    text sentiment\n0                   oh marly im sorry hope find soon 3 3   neutral\n1      playing ghost online really interesting new up...  positive\n2              cleaning house family comming later today   neutral\n3      got ta restart computer thought win7 supposed ...   neutral\n4      see wat mean bout foll0w friidays called lose ...   neutral\n...                                                  ...       ...\n27443  like drew said give tc chance miss thomas move...  negative\n27444  rec gametrying crythe pain muchi need himcant ...  negative\n27445           sure ill try n keep p enjoy studying cya  positive\n27446  naw pretty tame 1 guy costume voyagerstyle med...   neutral\n27447          morning twitfriends welcome new followers  positive\n\n[27448 rows x 2 columns]",
      "text/html": "<div>\n<style scoped>\n    .dataframe tbody tr th:only-of-type {\n        vertical-align: middle;\n    }\n\n    .dataframe tbody tr th {\n        vertical-align: top;\n    }\n\n    .dataframe thead th {\n        text-align: right;\n    }\n</style>\n<table border=\"1\" class=\"dataframe\">\n  <thead>\n    <tr style=\"text-align: right;\">\n      <th></th>\n      <th>text</th>\n      <th>sentiment</th>\n    </tr>\n  </thead>\n  <tbody>\n    <tr>\n      <th>0</th>\n      <td>oh marly im sorry hope find soon 3 3</td>\n      <td>neutral</td>\n    </tr>\n    <tr>\n      <th>1</th>\n      <td>playing ghost online really interesting new up...</td>\n      <td>positive</td>\n    </tr>\n    <tr>\n      <th>2</th>\n      <td>cleaning house family comming later today</td>\n      <td>neutral</td>\n    </tr>\n    <tr>\n      <th>3</th>\n      <td>got ta restart computer thought win7 supposed ...</td>\n      <td>neutral</td>\n    </tr>\n    <tr>\n      <th>4</th>\n      <td>see wat mean bout foll0w friidays called lose ...</td>\n      <td>neutral</td>\n    </tr>\n    <tr>\n      <th>...</th>\n      <td>...</td>\n      <td>...</td>\n    </tr>\n    <tr>\n      <th>27443</th>\n      <td>like drew said give tc chance miss thomas move...</td>\n      <td>negative</td>\n    </tr>\n    <tr>\n      <th>27444</th>\n      <td>rec gametrying crythe pain muchi need himcant ...</td>\n      <td>negative</td>\n    </tr>\n    <tr>\n      <th>27445</th>\n      <td>sure ill try n keep p enjoy studying cya</td>\n      <td>positive</td>\n    </tr>\n    <tr>\n      <th>27446</th>\n      <td>naw pretty tame 1 guy costume voyagerstyle med...</td>\n      <td>neutral</td>\n    </tr>\n    <tr>\n      <th>27447</th>\n      <td>morning twitfriends welcome new followers</td>\n      <td>positive</td>\n    </tr>\n  </tbody>\n</table>\n<p>27448 rows × 2 columns</p>\n</div>"
     },
     "metadata": {},
     "execution_count": 5
    }
   ],
   "source": [
    "# Load dataset\n",
    "dataset = pd.read_csv(\"train.csv\", encoding='UTF-8')\n",
    "#Preprocess data\n",
    "dataset['text'] = dataset['text'].apply(preprocess_tweet_text)\n",
    "\n",
    "dataset"
   ]
  },
  {
   "cell_type": "code",
   "execution_count": 6,
   "metadata": {
    "tags": []
   },
   "outputs": [
    {
     "output_type": "stream",
     "name": "stdout",
     "text": "<class 'pandas.core.frame.DataFrame'>\nRangeIndex: 27448 entries, 0 to 27447\nData columns (total 2 columns):\n #   Column     Non-Null Count  Dtype \n---  ------     --------------  ----- \n 0   text       27448 non-null  object\n 1   sentiment  27448 non-null  object\ndtypes: object(2)\nmemory usage: 429.0+ KB\n"
    }
   ],
   "source": [
    "dataset.info()"
   ]
  },
  {
   "cell_type": "code",
   "execution_count": 7,
   "metadata": {},
   "outputs": [
    {
     "output_type": "execute_result",
     "data": {
      "text/plain": "<matplotlib.axes._subplots.AxesSubplot at 0x1ae6af43550>"
     },
     "metadata": {},
     "execution_count": 7
    },
    {
     "output_type": "display_data",
     "data": {
      "text/plain": "<Figure size 432x288 with 1 Axes>",
      "image/svg+xml": "<?xml version=\"1.0\" encoding=\"utf-8\" standalone=\"no\"?>\r\n<!DOCTYPE svg PUBLIC \"-//W3C//DTD SVG 1.1//EN\"\r\n  \"http://www.w3.org/Graphics/SVG/1.1/DTD/svg11.dtd\">\r\n<!-- Created with matplotlib (https://matplotlib.org/) -->\r\n<svg height=\"262.19625pt\" version=\"1.1\" viewBox=\"0 0 401.690625 262.19625\" width=\"401.690625pt\" xmlns=\"http://www.w3.org/2000/svg\" xmlns:xlink=\"http://www.w3.org/1999/xlink\">\r\n <defs>\r\n  <style type=\"text/css\">\r\n*{stroke-linecap:butt;stroke-linejoin:round;}\r\n  </style>\r\n </defs>\r\n <g id=\"figure_1\">\r\n  <g id=\"patch_1\">\r\n   <path d=\"M 0 262.19625 \r\nL 401.690625 262.19625 \r\nL 401.690625 0 \r\nL 0 0 \r\nz\r\n\" style=\"fill:none;\"/>\r\n  </g>\r\n  <g id=\"axes_1\">\r\n   <g id=\"patch_2\">\r\n    <path d=\"M 59.690625 224.64 \r\nL 394.490625 224.64 \r\nL 394.490625 7.2 \r\nL 59.690625 7.2 \r\nz\r\n\" style=\"fill:#ffffff;\"/>\r\n   </g>\r\n   <g id=\"patch_3\">\r\n    <path clip-path=\"url(#p13e652f6dd)\" d=\"M 70.850625 224.64 \r\nL 160.130625 224.64 \r\nL 160.130625 17.554286 \r\nL 70.850625 17.554286 \r\nz\r\n\" style=\"fill:#3274a1;\"/>\r\n   </g>\r\n   <g id=\"patch_4\">\r\n    <path clip-path=\"url(#p13e652f6dd)\" d=\"M 182.450625 224.64 \r\nL 271.730625 224.64 \r\nL 271.730625 64.74805 \r\nL 182.450625 64.74805 \r\nz\r\n\" style=\"fill:#e1812c;\"/>\r\n   </g>\r\n   <g id=\"patch_5\">\r\n    <path clip-path=\"url(#p13e652f6dd)\" d=\"M 294.050625 224.64 \r\nL 383.330625 224.64 \r\nL 383.330625 79.814253 \r\nL 294.050625 79.814253 \r\nz\r\n\" style=\"fill:#3a923a;\"/>\r\n   </g>\r\n   <g id=\"matplotlib.axis_1\">\r\n    <g id=\"xtick_1\">\r\n     <g id=\"line2d_1\">\r\n      <defs>\r\n       <path d=\"M 0 0 \r\nL 0 3.5 \r\n\" id=\"md182e65380\" style=\"stroke:#000000;stroke-width:0.8;\"/>\r\n      </defs>\r\n      <g>\r\n       <use style=\"stroke:#000000;stroke-width:0.8;\" x=\"115.490625\" xlink:href=\"#md182e65380\" y=\"224.64\"/>\r\n      </g>\r\n     </g>\r\n     <g id=\"text_1\">\r\n      <!-- neutral -->\r\n      <defs>\r\n       <path d=\"M 54.890625 33.015625 \r\nL 54.890625 0 \r\nL 45.90625 0 \r\nL 45.90625 32.71875 \r\nQ 45.90625 40.484375 42.875 44.328125 \r\nQ 39.84375 48.1875 33.796875 48.1875 \r\nQ 26.515625 48.1875 22.3125 43.546875 \r\nQ 18.109375 38.921875 18.109375 30.90625 \r\nL 18.109375 0 \r\nL 9.078125 0 \r\nL 9.078125 54.6875 \r\nL 18.109375 54.6875 \r\nL 18.109375 46.1875 \r\nQ 21.34375 51.125 25.703125 53.5625 \r\nQ 30.078125 56 35.796875 56 \r\nQ 45.21875 56 50.046875 50.171875 \r\nQ 54.890625 44.34375 54.890625 33.015625 \r\nz\r\n\" id=\"DejaVuSans-110\"/>\r\n       <path d=\"M 56.203125 29.59375 \r\nL 56.203125 25.203125 \r\nL 14.890625 25.203125 \r\nQ 15.484375 15.921875 20.484375 11.0625 \r\nQ 25.484375 6.203125 34.421875 6.203125 \r\nQ 39.59375 6.203125 44.453125 7.46875 \r\nQ 49.3125 8.734375 54.109375 11.28125 \r\nL 54.109375 2.78125 \r\nQ 49.265625 0.734375 44.1875 -0.34375 \r\nQ 39.109375 -1.421875 33.890625 -1.421875 \r\nQ 20.796875 -1.421875 13.15625 6.1875 \r\nQ 5.515625 13.8125 5.515625 26.8125 \r\nQ 5.515625 40.234375 12.765625 48.109375 \r\nQ 20.015625 56 32.328125 56 \r\nQ 43.359375 56 49.78125 48.890625 \r\nQ 56.203125 41.796875 56.203125 29.59375 \r\nz\r\nM 47.21875 32.234375 \r\nQ 47.125 39.59375 43.09375 43.984375 \r\nQ 39.0625 48.390625 32.421875 48.390625 \r\nQ 24.90625 48.390625 20.390625 44.140625 \r\nQ 15.875 39.890625 15.1875 32.171875 \r\nz\r\n\" id=\"DejaVuSans-101\"/>\r\n       <path d=\"M 8.5 21.578125 \r\nL 8.5 54.6875 \r\nL 17.484375 54.6875 \r\nL 17.484375 21.921875 \r\nQ 17.484375 14.15625 20.5 10.265625 \r\nQ 23.53125 6.390625 29.59375 6.390625 \r\nQ 36.859375 6.390625 41.078125 11.03125 \r\nQ 45.3125 15.671875 45.3125 23.6875 \r\nL 45.3125 54.6875 \r\nL 54.296875 54.6875 \r\nL 54.296875 0 \r\nL 45.3125 0 \r\nL 45.3125 8.40625 \r\nQ 42.046875 3.421875 37.71875 1 \r\nQ 33.40625 -1.421875 27.6875 -1.421875 \r\nQ 18.265625 -1.421875 13.375 4.4375 \r\nQ 8.5 10.296875 8.5 21.578125 \r\nz\r\nM 31.109375 56 \r\nz\r\n\" id=\"DejaVuSans-117\"/>\r\n       <path d=\"M 18.3125 70.21875 \r\nL 18.3125 54.6875 \r\nL 36.8125 54.6875 \r\nL 36.8125 47.703125 \r\nL 18.3125 47.703125 \r\nL 18.3125 18.015625 \r\nQ 18.3125 11.328125 20.140625 9.421875 \r\nQ 21.96875 7.515625 27.59375 7.515625 \r\nL 36.8125 7.515625 \r\nL 36.8125 0 \r\nL 27.59375 0 \r\nQ 17.1875 0 13.234375 3.875 \r\nQ 9.28125 7.765625 9.28125 18.015625 \r\nL 9.28125 47.703125 \r\nL 2.6875 47.703125 \r\nL 2.6875 54.6875 \r\nL 9.28125 54.6875 \r\nL 9.28125 70.21875 \r\nz\r\n\" id=\"DejaVuSans-116\"/>\r\n       <path d=\"M 41.109375 46.296875 \r\nQ 39.59375 47.171875 37.8125 47.578125 \r\nQ 36.03125 48 33.890625 48 \r\nQ 26.265625 48 22.1875 43.046875 \r\nQ 18.109375 38.09375 18.109375 28.8125 \r\nL 18.109375 0 \r\nL 9.078125 0 \r\nL 9.078125 54.6875 \r\nL 18.109375 54.6875 \r\nL 18.109375 46.1875 \r\nQ 20.953125 51.171875 25.484375 53.578125 \r\nQ 30.03125 56 36.53125 56 \r\nQ 37.453125 56 38.578125 55.875 \r\nQ 39.703125 55.765625 41.0625 55.515625 \r\nz\r\n\" id=\"DejaVuSans-114\"/>\r\n       <path d=\"M 34.28125 27.484375 \r\nQ 23.390625 27.484375 19.1875 25 \r\nQ 14.984375 22.515625 14.984375 16.5 \r\nQ 14.984375 11.71875 18.140625 8.90625 \r\nQ 21.296875 6.109375 26.703125 6.109375 \r\nQ 34.1875 6.109375 38.703125 11.40625 \r\nQ 43.21875 16.703125 43.21875 25.484375 \r\nL 43.21875 27.484375 \r\nz\r\nM 52.203125 31.203125 \r\nL 52.203125 0 \r\nL 43.21875 0 \r\nL 43.21875 8.296875 \r\nQ 40.140625 3.328125 35.546875 0.953125 \r\nQ 30.953125 -1.421875 24.3125 -1.421875 \r\nQ 15.921875 -1.421875 10.953125 3.296875 \r\nQ 6 8.015625 6 15.921875 \r\nQ 6 25.140625 12.171875 29.828125 \r\nQ 18.359375 34.515625 30.609375 34.515625 \r\nL 43.21875 34.515625 \r\nL 43.21875 35.40625 \r\nQ 43.21875 41.609375 39.140625 45 \r\nQ 35.0625 48.390625 27.6875 48.390625 \r\nQ 23 48.390625 18.546875 47.265625 \r\nQ 14.109375 46.140625 10.015625 43.890625 \r\nL 10.015625 52.203125 \r\nQ 14.9375 54.109375 19.578125 55.046875 \r\nQ 24.21875 56 28.609375 56 \r\nQ 40.484375 56 46.34375 49.84375 \r\nQ 52.203125 43.703125 52.203125 31.203125 \r\nz\r\n\" id=\"DejaVuSans-97\"/>\r\n       <path d=\"M 9.421875 75.984375 \r\nL 18.40625 75.984375 \r\nL 18.40625 0 \r\nL 9.421875 0 \r\nz\r\n\" id=\"DejaVuSans-108\"/>\r\n      </defs>\r\n      <g transform=\"translate(97.607812 239.238437)scale(0.1 -0.1)\">\r\n       <use xlink:href=\"#DejaVuSans-110\"/>\r\n       <use x=\"63.378906\" xlink:href=\"#DejaVuSans-101\"/>\r\n       <use x=\"124.902344\" xlink:href=\"#DejaVuSans-117\"/>\r\n       <use x=\"188.28125\" xlink:href=\"#DejaVuSans-116\"/>\r\n       <use x=\"227.490234\" xlink:href=\"#DejaVuSans-114\"/>\r\n       <use x=\"268.603516\" xlink:href=\"#DejaVuSans-97\"/>\r\n       <use x=\"329.882812\" xlink:href=\"#DejaVuSans-108\"/>\r\n      </g>\r\n     </g>\r\n    </g>\r\n    <g id=\"xtick_2\">\r\n     <g id=\"line2d_2\">\r\n      <g>\r\n       <use style=\"stroke:#000000;stroke-width:0.8;\" x=\"227.090625\" xlink:href=\"#md182e65380\" y=\"224.64\"/>\r\n      </g>\r\n     </g>\r\n     <g id=\"text_2\">\r\n      <!-- positive -->\r\n      <defs>\r\n       <path d=\"M 18.109375 8.203125 \r\nL 18.109375 -20.796875 \r\nL 9.078125 -20.796875 \r\nL 9.078125 54.6875 \r\nL 18.109375 54.6875 \r\nL 18.109375 46.390625 \r\nQ 20.953125 51.265625 25.265625 53.625 \r\nQ 29.59375 56 35.59375 56 \r\nQ 45.5625 56 51.78125 48.09375 \r\nQ 58.015625 40.1875 58.015625 27.296875 \r\nQ 58.015625 14.40625 51.78125 6.484375 \r\nQ 45.5625 -1.421875 35.59375 -1.421875 \r\nQ 29.59375 -1.421875 25.265625 0.953125 \r\nQ 20.953125 3.328125 18.109375 8.203125 \r\nz\r\nM 48.6875 27.296875 \r\nQ 48.6875 37.203125 44.609375 42.84375 \r\nQ 40.53125 48.484375 33.40625 48.484375 \r\nQ 26.265625 48.484375 22.1875 42.84375 \r\nQ 18.109375 37.203125 18.109375 27.296875 \r\nQ 18.109375 17.390625 22.1875 11.75 \r\nQ 26.265625 6.109375 33.40625 6.109375 \r\nQ 40.53125 6.109375 44.609375 11.75 \r\nQ 48.6875 17.390625 48.6875 27.296875 \r\nz\r\n\" id=\"DejaVuSans-112\"/>\r\n       <path d=\"M 30.609375 48.390625 \r\nQ 23.390625 48.390625 19.1875 42.75 \r\nQ 14.984375 37.109375 14.984375 27.296875 \r\nQ 14.984375 17.484375 19.15625 11.84375 \r\nQ 23.34375 6.203125 30.609375 6.203125 \r\nQ 37.796875 6.203125 41.984375 11.859375 \r\nQ 46.1875 17.53125 46.1875 27.296875 \r\nQ 46.1875 37.015625 41.984375 42.703125 \r\nQ 37.796875 48.390625 30.609375 48.390625 \r\nz\r\nM 30.609375 56 \r\nQ 42.328125 56 49.015625 48.375 \r\nQ 55.71875 40.765625 55.71875 27.296875 \r\nQ 55.71875 13.875 49.015625 6.21875 \r\nQ 42.328125 -1.421875 30.609375 -1.421875 \r\nQ 18.84375 -1.421875 12.171875 6.21875 \r\nQ 5.515625 13.875 5.515625 27.296875 \r\nQ 5.515625 40.765625 12.171875 48.375 \r\nQ 18.84375 56 30.609375 56 \r\nz\r\n\" id=\"DejaVuSans-111\"/>\r\n       <path d=\"M 44.28125 53.078125 \r\nL 44.28125 44.578125 \r\nQ 40.484375 46.53125 36.375 47.5 \r\nQ 32.28125 48.484375 27.875 48.484375 \r\nQ 21.1875 48.484375 17.84375 46.4375 \r\nQ 14.5 44.390625 14.5 40.28125 \r\nQ 14.5 37.15625 16.890625 35.375 \r\nQ 19.28125 33.59375 26.515625 31.984375 \r\nL 29.59375 31.296875 \r\nQ 39.15625 29.25 43.1875 25.515625 \r\nQ 47.21875 21.78125 47.21875 15.09375 \r\nQ 47.21875 7.46875 41.1875 3.015625 \r\nQ 35.15625 -1.421875 24.609375 -1.421875 \r\nQ 20.21875 -1.421875 15.453125 -0.5625 \r\nQ 10.6875 0.296875 5.421875 2 \r\nL 5.421875 11.28125 \r\nQ 10.40625 8.6875 15.234375 7.390625 \r\nQ 20.0625 6.109375 24.8125 6.109375 \r\nQ 31.15625 6.109375 34.5625 8.28125 \r\nQ 37.984375 10.453125 37.984375 14.40625 \r\nQ 37.984375 18.0625 35.515625 20.015625 \r\nQ 33.0625 21.96875 24.703125 23.78125 \r\nL 21.578125 24.515625 \r\nQ 13.234375 26.265625 9.515625 29.90625 \r\nQ 5.8125 33.546875 5.8125 39.890625 \r\nQ 5.8125 47.609375 11.28125 51.796875 \r\nQ 16.75 56 26.8125 56 \r\nQ 31.78125 56 36.171875 55.265625 \r\nQ 40.578125 54.546875 44.28125 53.078125 \r\nz\r\n\" id=\"DejaVuSans-115\"/>\r\n       <path d=\"M 9.421875 54.6875 \r\nL 18.40625 54.6875 \r\nL 18.40625 0 \r\nL 9.421875 0 \r\nz\r\nM 9.421875 75.984375 \r\nL 18.40625 75.984375 \r\nL 18.40625 64.59375 \r\nL 9.421875 64.59375 \r\nz\r\n\" id=\"DejaVuSans-105\"/>\r\n       <path d=\"M 2.984375 54.6875 \r\nL 12.5 54.6875 \r\nL 29.59375 8.796875 \r\nL 46.6875 54.6875 \r\nL 56.203125 54.6875 \r\nL 35.6875 0 \r\nL 23.484375 0 \r\nz\r\n\" id=\"DejaVuSans-118\"/>\r\n      </defs>\r\n      <g transform=\"translate(207.478125 239.238437)scale(0.1 -0.1)\">\r\n       <use xlink:href=\"#DejaVuSans-112\"/>\r\n       <use x=\"63.476562\" xlink:href=\"#DejaVuSans-111\"/>\r\n       <use x=\"124.658203\" xlink:href=\"#DejaVuSans-115\"/>\r\n       <use x=\"176.757812\" xlink:href=\"#DejaVuSans-105\"/>\r\n       <use x=\"204.541016\" xlink:href=\"#DejaVuSans-116\"/>\r\n       <use x=\"243.75\" xlink:href=\"#DejaVuSans-105\"/>\r\n       <use x=\"271.533203\" xlink:href=\"#DejaVuSans-118\"/>\r\n       <use x=\"330.712891\" xlink:href=\"#DejaVuSans-101\"/>\r\n      </g>\r\n     </g>\r\n    </g>\r\n    <g id=\"xtick_3\">\r\n     <g id=\"line2d_3\">\r\n      <g>\r\n       <use style=\"stroke:#000000;stroke-width:0.8;\" x=\"338.690625\" xlink:href=\"#md182e65380\" y=\"224.64\"/>\r\n      </g>\r\n     </g>\r\n     <g id=\"text_3\">\r\n      <!-- negative -->\r\n      <defs>\r\n       <path d=\"M 45.40625 27.984375 \r\nQ 45.40625 37.75 41.375 43.109375 \r\nQ 37.359375 48.484375 30.078125 48.484375 \r\nQ 22.859375 48.484375 18.828125 43.109375 \r\nQ 14.796875 37.75 14.796875 27.984375 \r\nQ 14.796875 18.265625 18.828125 12.890625 \r\nQ 22.859375 7.515625 30.078125 7.515625 \r\nQ 37.359375 7.515625 41.375 12.890625 \r\nQ 45.40625 18.265625 45.40625 27.984375 \r\nz\r\nM 54.390625 6.78125 \r\nQ 54.390625 -7.171875 48.1875 -13.984375 \r\nQ 42 -20.796875 29.203125 -20.796875 \r\nQ 24.46875 -20.796875 20.265625 -20.09375 \r\nQ 16.0625 -19.390625 12.109375 -17.921875 \r\nL 12.109375 -9.1875 \r\nQ 16.0625 -11.328125 19.921875 -12.34375 \r\nQ 23.78125 -13.375 27.78125 -13.375 \r\nQ 36.625 -13.375 41.015625 -8.765625 \r\nQ 45.40625 -4.15625 45.40625 5.171875 \r\nL 45.40625 9.625 \r\nQ 42.625 4.78125 38.28125 2.390625 \r\nQ 33.9375 0 27.875 0 \r\nQ 17.828125 0 11.671875 7.65625 \r\nQ 5.515625 15.328125 5.515625 27.984375 \r\nQ 5.515625 40.671875 11.671875 48.328125 \r\nQ 17.828125 56 27.875 56 \r\nQ 33.9375 56 38.28125 53.609375 \r\nQ 42.625 51.21875 45.40625 46.390625 \r\nL 45.40625 54.6875 \r\nL 54.390625 54.6875 \r\nz\r\n\" id=\"DejaVuSans-103\"/>\r\n      </defs>\r\n      <g transform=\"translate(316.821875 239.238437)scale(0.1 -0.1)\">\r\n       <use xlink:href=\"#DejaVuSans-110\"/>\r\n       <use x=\"63.378906\" xlink:href=\"#DejaVuSans-101\"/>\r\n       <use x=\"124.902344\" xlink:href=\"#DejaVuSans-103\"/>\r\n       <use x=\"188.378906\" xlink:href=\"#DejaVuSans-97\"/>\r\n       <use x=\"249.658203\" xlink:href=\"#DejaVuSans-116\"/>\r\n       <use x=\"288.867188\" xlink:href=\"#DejaVuSans-105\"/>\r\n       <use x=\"316.650391\" xlink:href=\"#DejaVuSans-118\"/>\r\n       <use x=\"375.830078\" xlink:href=\"#DejaVuSans-101\"/>\r\n      </g>\r\n     </g>\r\n    </g>\r\n    <g id=\"text_4\">\r\n     <!-- sentiment -->\r\n     <defs>\r\n      <path d=\"M 52 44.1875 \r\nQ 55.375 50.25 60.0625 53.125 \r\nQ 64.75 56 71.09375 56 \r\nQ 79.640625 56 84.28125 50.015625 \r\nQ 88.921875 44.046875 88.921875 33.015625 \r\nL 88.921875 0 \r\nL 79.890625 0 \r\nL 79.890625 32.71875 \r\nQ 79.890625 40.578125 77.09375 44.375 \r\nQ 74.3125 48.1875 68.609375 48.1875 \r\nQ 61.625 48.1875 57.5625 43.546875 \r\nQ 53.515625 38.921875 53.515625 30.90625 \r\nL 53.515625 0 \r\nL 44.484375 0 \r\nL 44.484375 32.71875 \r\nQ 44.484375 40.625 41.703125 44.40625 \r\nQ 38.921875 48.1875 33.109375 48.1875 \r\nQ 26.21875 48.1875 22.15625 43.53125 \r\nQ 18.109375 38.875 18.109375 30.90625 \r\nL 18.109375 0 \r\nL 9.078125 0 \r\nL 9.078125 54.6875 \r\nL 18.109375 54.6875 \r\nL 18.109375 46.1875 \r\nQ 21.1875 51.21875 25.484375 53.609375 \r\nQ 29.78125 56 35.6875 56 \r\nQ 41.65625 56 45.828125 52.96875 \r\nQ 50 49.953125 52 44.1875 \r\nz\r\n\" id=\"DejaVuSans-109\"/>\r\n     </defs>\r\n     <g transform=\"translate(201.815625 252.916562)scale(0.1 -0.1)\">\r\n      <use xlink:href=\"#DejaVuSans-115\"/>\r\n      <use x=\"52.099609\" xlink:href=\"#DejaVuSans-101\"/>\r\n      <use x=\"113.623047\" xlink:href=\"#DejaVuSans-110\"/>\r\n      <use x=\"177.001953\" xlink:href=\"#DejaVuSans-116\"/>\r\n      <use x=\"216.210938\" xlink:href=\"#DejaVuSans-105\"/>\r\n      <use x=\"243.994141\" xlink:href=\"#DejaVuSans-109\"/>\r\n      <use x=\"341.40625\" xlink:href=\"#DejaVuSans-101\"/>\r\n      <use x=\"402.929688\" xlink:href=\"#DejaVuSans-110\"/>\r\n      <use x=\"466.308594\" xlink:href=\"#DejaVuSans-116\"/>\r\n     </g>\r\n    </g>\r\n   </g>\r\n   <g id=\"matplotlib.axis_2\">\r\n    <g id=\"ytick_1\">\r\n     <g id=\"line2d_4\">\r\n      <defs>\r\n       <path d=\"M 0 0 \r\nL -3.5 0 \r\n\" id=\"m50a56a17f0\" style=\"stroke:#000000;stroke-width:0.8;\"/>\r\n      </defs>\r\n      <g>\r\n       <use style=\"stroke:#000000;stroke-width:0.8;\" x=\"59.690625\" xlink:href=\"#m50a56a17f0\" y=\"224.64\"/>\r\n      </g>\r\n     </g>\r\n     <g id=\"text_5\">\r\n      <!-- 0 -->\r\n      <defs>\r\n       <path d=\"M 31.78125 66.40625 \r\nQ 24.171875 66.40625 20.328125 58.90625 \r\nQ 16.5 51.421875 16.5 36.375 \r\nQ 16.5 21.390625 20.328125 13.890625 \r\nQ 24.171875 6.390625 31.78125 6.390625 \r\nQ 39.453125 6.390625 43.28125 13.890625 \r\nQ 47.125 21.390625 47.125 36.375 \r\nQ 47.125 51.421875 43.28125 58.90625 \r\nQ 39.453125 66.40625 31.78125 66.40625 \r\nz\r\nM 31.78125 74.21875 \r\nQ 44.046875 74.21875 50.515625 64.515625 \r\nQ 56.984375 54.828125 56.984375 36.375 \r\nQ 56.984375 17.96875 50.515625 8.265625 \r\nQ 44.046875 -1.421875 31.78125 -1.421875 \r\nQ 19.53125 -1.421875 13.0625 8.265625 \r\nQ 6.59375 17.96875 6.59375 36.375 \r\nQ 6.59375 54.828125 13.0625 64.515625 \r\nQ 19.53125 74.21875 31.78125 74.21875 \r\nz\r\n\" id=\"DejaVuSans-48\"/>\r\n      </defs>\r\n      <g transform=\"translate(46.328125 228.439219)scale(0.1 -0.1)\">\r\n       <use xlink:href=\"#DejaVuSans-48\"/>\r\n      </g>\r\n     </g>\r\n    </g>\r\n    <g id=\"ytick_2\">\r\n     <g id=\"line2d_5\">\r\n      <g>\r\n       <use style=\"stroke:#000000;stroke-width:0.8;\" x=\"59.690625\" xlink:href=\"#m50a56a17f0\" y=\"187.347417\"/>\r\n      </g>\r\n     </g>\r\n     <g id=\"text_6\">\r\n      <!-- 2000 -->\r\n      <defs>\r\n       <path d=\"M 19.1875 8.296875 \r\nL 53.609375 8.296875 \r\nL 53.609375 0 \r\nL 7.328125 0 \r\nL 7.328125 8.296875 \r\nQ 12.9375 14.109375 22.625 23.890625 \r\nQ 32.328125 33.6875 34.8125 36.53125 \r\nQ 39.546875 41.84375 41.421875 45.53125 \r\nQ 43.3125 49.21875 43.3125 52.78125 \r\nQ 43.3125 58.59375 39.234375 62.25 \r\nQ 35.15625 65.921875 28.609375 65.921875 \r\nQ 23.96875 65.921875 18.8125 64.3125 \r\nQ 13.671875 62.703125 7.8125 59.421875 \r\nL 7.8125 69.390625 \r\nQ 13.765625 71.78125 18.9375 73 \r\nQ 24.125 74.21875 28.421875 74.21875 \r\nQ 39.75 74.21875 46.484375 68.546875 \r\nQ 53.21875 62.890625 53.21875 53.421875 \r\nQ 53.21875 48.921875 51.53125 44.890625 \r\nQ 49.859375 40.875 45.40625 35.40625 \r\nQ 44.1875 33.984375 37.640625 27.21875 \r\nQ 31.109375 20.453125 19.1875 8.296875 \r\nz\r\n\" id=\"DejaVuSans-50\"/>\r\n      </defs>\r\n      <g transform=\"translate(27.240625 191.146636)scale(0.1 -0.1)\">\r\n       <use xlink:href=\"#DejaVuSans-50\"/>\r\n       <use x=\"63.623047\" xlink:href=\"#DejaVuSans-48\"/>\r\n       <use x=\"127.246094\" xlink:href=\"#DejaVuSans-48\"/>\r\n       <use x=\"190.869141\" xlink:href=\"#DejaVuSans-48\"/>\r\n      </g>\r\n     </g>\r\n    </g>\r\n    <g id=\"ytick_3\">\r\n     <g id=\"line2d_6\">\r\n      <g>\r\n       <use style=\"stroke:#000000;stroke-width:0.8;\" x=\"59.690625\" xlink:href=\"#m50a56a17f0\" y=\"150.054834\"/>\r\n      </g>\r\n     </g>\r\n     <g id=\"text_7\">\r\n      <!-- 4000 -->\r\n      <defs>\r\n       <path d=\"M 37.796875 64.3125 \r\nL 12.890625 25.390625 \r\nL 37.796875 25.390625 \r\nz\r\nM 35.203125 72.90625 \r\nL 47.609375 72.90625 \r\nL 47.609375 25.390625 \r\nL 58.015625 25.390625 \r\nL 58.015625 17.1875 \r\nL 47.609375 17.1875 \r\nL 47.609375 0 \r\nL 37.796875 0 \r\nL 37.796875 17.1875 \r\nL 4.890625 17.1875 \r\nL 4.890625 26.703125 \r\nz\r\n\" id=\"DejaVuSans-52\"/>\r\n      </defs>\r\n      <g transform=\"translate(27.240625 153.854052)scale(0.1 -0.1)\">\r\n       <use xlink:href=\"#DejaVuSans-52\"/>\r\n       <use x=\"63.623047\" xlink:href=\"#DejaVuSans-48\"/>\r\n       <use x=\"127.246094\" xlink:href=\"#DejaVuSans-48\"/>\r\n       <use x=\"190.869141\" xlink:href=\"#DejaVuSans-48\"/>\r\n      </g>\r\n     </g>\r\n    </g>\r\n    <g id=\"ytick_4\">\r\n     <g id=\"line2d_7\">\r\n      <g>\r\n       <use style=\"stroke:#000000;stroke-width:0.8;\" x=\"59.690625\" xlink:href=\"#m50a56a17f0\" y=\"112.762251\"/>\r\n      </g>\r\n     </g>\r\n     <g id=\"text_8\">\r\n      <!-- 6000 -->\r\n      <defs>\r\n       <path d=\"M 33.015625 40.375 \r\nQ 26.375 40.375 22.484375 35.828125 \r\nQ 18.609375 31.296875 18.609375 23.390625 \r\nQ 18.609375 15.53125 22.484375 10.953125 \r\nQ 26.375 6.390625 33.015625 6.390625 \r\nQ 39.65625 6.390625 43.53125 10.953125 \r\nQ 47.40625 15.53125 47.40625 23.390625 \r\nQ 47.40625 31.296875 43.53125 35.828125 \r\nQ 39.65625 40.375 33.015625 40.375 \r\nz\r\nM 52.59375 71.296875 \r\nL 52.59375 62.3125 \r\nQ 48.875 64.0625 45.09375 64.984375 \r\nQ 41.3125 65.921875 37.59375 65.921875 \r\nQ 27.828125 65.921875 22.671875 59.328125 \r\nQ 17.53125 52.734375 16.796875 39.40625 \r\nQ 19.671875 43.65625 24.015625 45.921875 \r\nQ 28.375 48.1875 33.59375 48.1875 \r\nQ 44.578125 48.1875 50.953125 41.515625 \r\nQ 57.328125 34.859375 57.328125 23.390625 \r\nQ 57.328125 12.15625 50.6875 5.359375 \r\nQ 44.046875 -1.421875 33.015625 -1.421875 \r\nQ 20.359375 -1.421875 13.671875 8.265625 \r\nQ 6.984375 17.96875 6.984375 36.375 \r\nQ 6.984375 53.65625 15.1875 63.9375 \r\nQ 23.390625 74.21875 37.203125 74.21875 \r\nQ 40.921875 74.21875 44.703125 73.484375 \r\nQ 48.484375 72.75 52.59375 71.296875 \r\nz\r\n\" id=\"DejaVuSans-54\"/>\r\n      </defs>\r\n      <g transform=\"translate(27.240625 116.561469)scale(0.1 -0.1)\">\r\n       <use xlink:href=\"#DejaVuSans-54\"/>\r\n       <use x=\"63.623047\" xlink:href=\"#DejaVuSans-48\"/>\r\n       <use x=\"127.246094\" xlink:href=\"#DejaVuSans-48\"/>\r\n       <use x=\"190.869141\" xlink:href=\"#DejaVuSans-48\"/>\r\n      </g>\r\n     </g>\r\n    </g>\r\n    <g id=\"ytick_5\">\r\n     <g id=\"line2d_8\">\r\n      <g>\r\n       <use style=\"stroke:#000000;stroke-width:0.8;\" x=\"59.690625\" xlink:href=\"#m50a56a17f0\" y=\"75.469667\"/>\r\n      </g>\r\n     </g>\r\n     <g id=\"text_9\">\r\n      <!-- 8000 -->\r\n      <defs>\r\n       <path d=\"M 31.78125 34.625 \r\nQ 24.75 34.625 20.71875 30.859375 \r\nQ 16.703125 27.09375 16.703125 20.515625 \r\nQ 16.703125 13.921875 20.71875 10.15625 \r\nQ 24.75 6.390625 31.78125 6.390625 \r\nQ 38.8125 6.390625 42.859375 10.171875 \r\nQ 46.921875 13.96875 46.921875 20.515625 \r\nQ 46.921875 27.09375 42.890625 30.859375 \r\nQ 38.875 34.625 31.78125 34.625 \r\nz\r\nM 21.921875 38.8125 \r\nQ 15.578125 40.375 12.03125 44.71875 \r\nQ 8.5 49.078125 8.5 55.328125 \r\nQ 8.5 64.0625 14.71875 69.140625 \r\nQ 20.953125 74.21875 31.78125 74.21875 \r\nQ 42.671875 74.21875 48.875 69.140625 \r\nQ 55.078125 64.0625 55.078125 55.328125 \r\nQ 55.078125 49.078125 51.53125 44.71875 \r\nQ 48 40.375 41.703125 38.8125 \r\nQ 48.828125 37.15625 52.796875 32.3125 \r\nQ 56.78125 27.484375 56.78125 20.515625 \r\nQ 56.78125 9.90625 50.3125 4.234375 \r\nQ 43.84375 -1.421875 31.78125 -1.421875 \r\nQ 19.734375 -1.421875 13.25 4.234375 \r\nQ 6.78125 9.90625 6.78125 20.515625 \r\nQ 6.78125 27.484375 10.78125 32.3125 \r\nQ 14.796875 37.15625 21.921875 38.8125 \r\nz\r\nM 18.3125 54.390625 \r\nQ 18.3125 48.734375 21.84375 45.5625 \r\nQ 25.390625 42.390625 31.78125 42.390625 \r\nQ 38.140625 42.390625 41.71875 45.5625 \r\nQ 45.3125 48.734375 45.3125 54.390625 \r\nQ 45.3125 60.0625 41.71875 63.234375 \r\nQ 38.140625 66.40625 31.78125 66.40625 \r\nQ 25.390625 66.40625 21.84375 63.234375 \r\nQ 18.3125 60.0625 18.3125 54.390625 \r\nz\r\n\" id=\"DejaVuSans-56\"/>\r\n      </defs>\r\n      <g transform=\"translate(27.240625 79.268886)scale(0.1 -0.1)\">\r\n       <use xlink:href=\"#DejaVuSans-56\"/>\r\n       <use x=\"63.623047\" xlink:href=\"#DejaVuSans-48\"/>\r\n       <use x=\"127.246094\" xlink:href=\"#DejaVuSans-48\"/>\r\n       <use x=\"190.869141\" xlink:href=\"#DejaVuSans-48\"/>\r\n      </g>\r\n     </g>\r\n    </g>\r\n    <g id=\"ytick_6\">\r\n     <g id=\"line2d_9\">\r\n      <g>\r\n       <use style=\"stroke:#000000;stroke-width:0.8;\" x=\"59.690625\" xlink:href=\"#m50a56a17f0\" y=\"38.177084\"/>\r\n      </g>\r\n     </g>\r\n     <g id=\"text_10\">\r\n      <!-- 10000 -->\r\n      <defs>\r\n       <path d=\"M 12.40625 8.296875 \r\nL 28.515625 8.296875 \r\nL 28.515625 63.921875 \r\nL 10.984375 60.40625 \r\nL 10.984375 69.390625 \r\nL 28.421875 72.90625 \r\nL 38.28125 72.90625 \r\nL 38.28125 8.296875 \r\nL 54.390625 8.296875 \r\nL 54.390625 0 \r\nL 12.40625 0 \r\nz\r\n\" id=\"DejaVuSans-49\"/>\r\n      </defs>\r\n      <g transform=\"translate(20.878125 41.976303)scale(0.1 -0.1)\">\r\n       <use xlink:href=\"#DejaVuSans-49\"/>\r\n       <use x=\"63.623047\" xlink:href=\"#DejaVuSans-48\"/>\r\n       <use x=\"127.246094\" xlink:href=\"#DejaVuSans-48\"/>\r\n       <use x=\"190.869141\" xlink:href=\"#DejaVuSans-48\"/>\r\n       <use x=\"254.492188\" xlink:href=\"#DejaVuSans-48\"/>\r\n      </g>\r\n     </g>\r\n    </g>\r\n    <g id=\"text_11\">\r\n     <!-- count -->\r\n     <defs>\r\n      <path d=\"M 48.78125 52.59375 \r\nL 48.78125 44.1875 \r\nQ 44.96875 46.296875 41.140625 47.34375 \r\nQ 37.3125 48.390625 33.40625 48.390625 \r\nQ 24.65625 48.390625 19.8125 42.84375 \r\nQ 14.984375 37.3125 14.984375 27.296875 \r\nQ 14.984375 17.28125 19.8125 11.734375 \r\nQ 24.65625 6.203125 33.40625 6.203125 \r\nQ 37.3125 6.203125 41.140625 7.25 \r\nQ 44.96875 8.296875 48.78125 10.40625 \r\nL 48.78125 2.09375 \r\nQ 45.015625 0.34375 40.984375 -0.53125 \r\nQ 36.96875 -1.421875 32.421875 -1.421875 \r\nQ 20.0625 -1.421875 12.78125 6.34375 \r\nQ 5.515625 14.109375 5.515625 27.296875 \r\nQ 5.515625 40.671875 12.859375 48.328125 \r\nQ 20.21875 56 33.015625 56 \r\nQ 37.15625 56 41.109375 55.140625 \r\nQ 45.0625 54.296875 48.78125 52.59375 \r\nz\r\n\" id=\"DejaVuSans-99\"/>\r\n     </defs>\r\n     <g transform=\"translate(14.798438 130.02625)rotate(-90)scale(0.1 -0.1)\">\r\n      <use xlink:href=\"#DejaVuSans-99\"/>\r\n      <use x=\"54.980469\" xlink:href=\"#DejaVuSans-111\"/>\r\n      <use x=\"116.162109\" xlink:href=\"#DejaVuSans-117\"/>\r\n      <use x=\"179.541016\" xlink:href=\"#DejaVuSans-110\"/>\r\n      <use x=\"242.919922\" xlink:href=\"#DejaVuSans-116\"/>\r\n     </g>\r\n    </g>\r\n   </g>\r\n   <g id=\"patch_6\">\r\n    <path d=\"M 59.690625 224.64 \r\nL 59.690625 7.2 \r\n\" style=\"fill:none;stroke:#000000;stroke-linecap:square;stroke-linejoin:miter;stroke-width:0.8;\"/>\r\n   </g>\r\n   <g id=\"patch_7\">\r\n    <path d=\"M 394.490625 224.64 \r\nL 394.490625 7.2 \r\n\" style=\"fill:none;stroke:#000000;stroke-linecap:square;stroke-linejoin:miter;stroke-width:0.8;\"/>\r\n   </g>\r\n   <g id=\"patch_8\">\r\n    <path d=\"M 59.690625 224.64 \r\nL 394.490625 224.64 \r\n\" style=\"fill:none;stroke:#000000;stroke-linecap:square;stroke-linejoin:miter;stroke-width:0.8;\"/>\r\n   </g>\r\n   <g id=\"patch_9\">\r\n    <path d=\"M 59.690625 7.2 \r\nL 394.490625 7.2 \r\n\" style=\"fill:none;stroke:#000000;stroke-linecap:square;stroke-linejoin:miter;stroke-width:0.8;\"/>\r\n   </g>\r\n  </g>\r\n </g>\r\n <defs>\r\n  <clipPath id=\"p13e652f6dd\">\r\n   <rect height=\"217.44\" width=\"334.8\" x=\"59.690625\" y=\"7.2\"/>\r\n  </clipPath>\r\n </defs>\r\n</svg>\r\n",
      "image/png": "[encoded data removed]"
     },
     "metadata": {
      "needs_background": "light"
     }
    }
   ],
   "source": [
    "import seaborn as sns\n",
    "sns.countplot(x = 'sentiment', data = dataset)"
   ]
  },
  {
   "cell_type": "code",
   "execution_count": 8,
   "metadata": {
    "tags": []
   },
   "outputs": [
    {
     "output_type": "stream",
     "name": "stdout",
     "text": "0.6207650273224044\n0.6808743169398908\n"
    }
   ],
   "source": [
    "## Split dataset into Train, Test\n",
    "# Same tf vector will be used for Testing sentiments on unseen trending data\n",
    "tf_vector = get_feature_vector(np.array(dataset.iloc[:, 0]).ravel())\n",
    "X = tf_vector.transform(np.array(dataset.iloc[:, 0]).ravel())\n",
    "y = np.array(dataset.iloc[:, 1]).ravel()\n",
    "X_train, X_test, y_train, y_test = train_test_split(X, y, test_size=0.3, random_state=75)\n",
    "\n",
    "# Training Naive Bayes model\n",
    "NB_model = MultinomialNB()\n",
    "NB_model.fit(X_train, y_train)\n",
    "y_predict_nb = NB_model.predict(X_test)\n",
    "print(accuracy_score(y_test, y_predict_nb))\n",
    "\n",
    "# Training Logistics Regression model\n",
    "LR_model = LogisticRegression(solver='lbfgs') # For multiclass problems, only ‘newton-cg’, ‘sag’, ‘saga’ and ‘lbfgs’ handle multinomial loss;\n",
    "LR_model.fit(X_train, y_train)\n",
    "y_predict_lr = LR_model.predict(X_test)\n",
    "print(accuracy_score(y_test, y_predict_lr))"
   ]
  },
  {
   "cell_type": "code",
   "execution_count": 9,
   "metadata": {
    "tags": []
   },
   "outputs": [
    {
     "output_type": "stream",
     "name": "stdout",
     "text": "(0, 14518)\t0.5600113575466521\n  (0, 10254)\t0.8284849301096284\n  (1, 10436)\t0.815733292242071\n  (1, 8813)\t0.5784282115594915\n"
    }
   ],
   "source": [
    "# Try to predict the outcome on a new document we need to extract the features using almost the same feature extracting chain as before. The difference is that we call transform instead of fit_transform on the transformers, since they have already been fit to the training set\n",
    "docs_new = ['God is love', 'OpenGL on the GPU is fast']\n",
    "X_new = tf_vector.transform(docs_new)\n",
    "print(X_new) #  the vocabulary size of corpus is relatively small so there are some missing value"
   ]
  },
  {
   "cell_type": "code",
   "execution_count": 10,
   "metadata": {
    "tags": []
   },
   "outputs": [
    {
     "output_type": "stream",
     "name": "stdout",
     "text": "['positive' 'neutral']\n'God is love' => positive\n'OpenGL on the GPU is fast' => neutral\n"
    }
   ],
   "source": [
    "predicted = LR_model.predict(X_new)\n",
    "print(predicted)\n",
    "\n",
    "for doc, sentiment in zip(docs_new, predicted):\n",
    "    print('%r => %s' % (doc, sentiment))"
   ]
  },
  {
   "cell_type": "markdown",
   "metadata": {},
   "source": [
    "** Getting the model ready for deployment **"
   ]
  },
  {
   "cell_type": "code",
   "execution_count": 11,
   "metadata": {},
   "outputs": [],
   "source": [
    "# Save our trained classifier model to disk using pickle. It can then be reloaded later on and used exactly as if we had trained it.\n",
    "import pickle \n",
    "\n",
    "with open('Sentiment_LRmodel.pkl', 'wb') as file:\n",
    "    pickle.dump(LR_model, file)\n",
    "# create a pkl file"
   ]
  },
  {
   "cell_type": "code",
   "execution_count": 12,
   "metadata": {
    "tags": []
   },
   "outputs": [
    {
     "output_type": "stream",
     "name": "stdout",
     "text": "(0, 14518)\t0.5600113575466521\n  (0, 10254)\t0.8284849301096284\n  (1, 10436)\t0.815733292242071\n  (1, 8813)\t0.5784282115594915\n"
    }
   ],
   "source": [
    "vector = TfidfVectorizer(sublinear_tf=True)\n",
    "vector.fit_transform(np.array(dataset.iloc[:, 0]).ravel())\n",
    "a = vector.transform(docs_new)\n",
    "print(a)\n"
   ]
  },
  {
   "cell_type": "code",
   "execution_count": 13,
   "metadata": {},
   "outputs": [],
   "source": [
    "with open('tf_idf.pkl','wb') as file:\n",
    "    pickle.dump(vector, file)"
   ]
  },
  {
   "cell_type": "code",
   "execution_count": 14,
   "metadata": {},
   "outputs": [
    {
     "output_type": "execute_result",
     "data": {
      "text/plain": "['vector.joblib']"
     },
     "metadata": {},
     "execution_count": 14
    }
   ],
   "source": [
    "from joblib import dump\n",
    "dump(LR_model, 'model.joblib')\n",
    "dump(vector,'vector.joblib')"
   ]
  },
  {
   "cell_type": "code",
   "execution_count": 15,
   "metadata": {},
   "outputs": [
    {
     "output_type": "execute_result",
     "data": {
      "text/plain": "{'oh': 17153,\n 'marly': 14999,\n 'im': 12134,\n 'sorry': 22237,\n 'hope': 11677,\n 'find': 9048,\n 'soon': 22182,\n 'playing': 18471,\n 'ghost': 10075,\n 'online': 17310,\n 'really': 19616,\n 'interesting': 12443,\n 'new': 16532,\n 'updates': 25466,\n 'kirin': 13460,\n 'pet': 18146,\n 'metamorph': 15384,\n 'third': 23981,\n 'job': 12969,\n 'cant': 4480,\n 'wait': 25999,\n 'dragon': 7551,\n 'cleaning': 5278,\n 'house': 11771,\n 'family': 8752,\n 'comming': 5594,\n 'later': 13807,\n 'today': 24312,\n 'got': 10401,\n 'ta': 23415,\n 'restart': 20063,\n 'computer': 5678,\n 'thought': 24043,\n 'win7': 26652,\n 'supposed': 23213,\n 'put': 19260,\n 'end': 8166,\n 'constant': 5790,\n 'rebootiness': 19649,\n 'see': 21017,\n 'wat': 26143,\n 'mean': 15193,\n 'bout': 3750,\n 'foll0w': 9309,\n 'friidays': 9622,\n 'called': 4396,\n 'lose': 14470,\n 'f0llowers': 8657,\n 'friday': 9581,\n 'smh': 21943,\n 'free': 9520,\n 'fillin': 9016,\n 'app': 1964,\n 'ipod': 12536,\n 'fun': 9709,\n 'addicted': 1176,\n 'way': 26195,\n 'malaysiano': 14853,\n 'internet': 12454,\n 'access': 1077,\n 'twit': 25026,\n 'juss': 13153,\n 'came': 4423,\n 'backk': 2582,\n 'berkeleyy': 3128,\n 'omg': 17255,\n 'madd': 14761,\n 'havent': 11103,\n 'minute': 15610,\n 'whassqoodd': 26446,\n 'went': 26392,\n 'sleep': 21817,\n 'power': 18778,\n 'cut': 6353,\n 'noida': 16755,\n 'back': 2566,\n 'working': 26878,\n 'going': 10285,\n 'home': 11584,\n 'seen': 21033,\n 'twitter': 25050,\n 'design': 6938,\n 'quiteheavenly': 19372,\n 'unni': 25409,\n 'make': 14833,\n 'audition': 2332,\n 'fighting': 8993,\n 'dahye': 6447,\n 'consolation': 5788,\n 'bmi': 3517,\n 'tested': 23771,\n 'hahaha': 10838,\n 'says': 20810,\n 'obesed': 17046,\n 'well': 26351,\n 'much': 16106,\n 'unhappy': 25356,\n '10': 36,\n 'minutes': 15613,\n 'thats': 23849,\n 'funny': 9743,\n 'cute': 6355,\n 'kids': 13406,\n 'ahhh': 1391,\n 'slept': 21851,\n 'game': 9854,\n 'gon': 10302,\n 'na': 16280,\n 'try': 24822,\n 'best': 3143,\n 'watch': 26145,\n 'tomorrow': 24395,\n 'though': 24032,\n 'play': 18458,\n 'army': 2107,\n 'tears': 23629,\n 'fears': 8860,\n 'vs': 25934,\n 'eric': 8303,\n 'prydz': 19136,\n 'dj': 7311,\n 'hero': 11356,\n 'born': 3704,\n 'raised': 19474,\n 'nyc': 17021,\n 'living': 14254,\n 'texas': 23782,\n 'past': 17903,\n 'years': 27220,\n 'still': 22736,\n 'miss': 15646,\n 'ny': 17017,\n 'case': 4610,\n 'wonder': 26792,\n 'busy': 4236,\n 'coming': 5562,\n 'adding': 1184,\n 'tons': 24442,\n 'blogs': 3458,\n 'stay': 22666,\n 'tuned': 24888,\n 'soooooo': 22202,\n 'sleeeeepy': 21813,\n 'last': 13793,\n 'day': 6583,\n 'school': 20867,\n 'todaysniffle': 24337,\n 'little': 14232,\n 'happy': 11010,\n 'wine': 26667,\n 'jeje': 12870,\n 'ok': 17189,\n 'itsm': 12667,\n 'time': 24187,\n 'cares': 4540,\n 'jaja': 12757,\n 'love': 14518,\n 'car': 4508,\n 'big': 3227,\n 'dent': 6878,\n 'boot': 3654,\n 'hoping': 11690,\n 'theyre': 23942,\n 'write': 26994,\n 'crossing': 6210,\n 'fingers': 9065,\n 'waiting': 26004,\n 'avid': 2410,\n 'fan': 8759,\n 'magazine': 14781,\n 'magazines': 14782,\n 'mayday': 15122,\n 'ratt': 19532,\n 'rocked': 20324,\n 'nashville': 16366,\n 'toniteone': 24438,\n 'thing': 23959,\n 'sucked': 23020,\n 'encore': 8162,\n 'like': 14122,\n '80s': 847,\n 'show': 21477,\n 'pearcy': 18002,\n 'hott': 11751,\n 'bad': 2610,\n 'boy': 3769,\n 'look': 14416,\n 'available': 2394,\n '5pm': 722,\n 'dear': 6690,\n 'would': 26947,\n 'help': 11306,\n 'convert': 5853,\n 'vidsã': 25773,\n 'â½': 27569,\n 'girl': 10124,\n 'hair': 10873,\n 'salon': 20668,\n 'asked': 2202,\n 'shall': 21223,\n 'trim': 24747,\n 'eyebrows': 8643,\n 'old': 17221,\n 'feel': 8887,\n 'egh': 7987,\n 'blah': 3359,\n 'boooooooooooo': 3645,\n 'dunno': 7746,\n 'wan': 26056,\n 'go': 10244,\n 'work': 26859,\n 'hangovers': 10976,\n 'suckkkkkk': 23027,\n 'drunk': 7666,\n 'mess': 15367,\n 'visiting': 25843,\n 'friendster': 9614,\n 'facebook': 8678,\n 'donbt': 7420,\n 'peel': 18024,\n 'prawns': 18823,\n 'also': 1622,\n 'dont': 7442,\n 'shopping': 21426,\n 'running': 20523,\n 'money': 15820,\n 'crawling': 6107,\n 'round': 20429,\n 'looking': 14421,\n 'one': 17291,\n 'week': 26275,\n 'thrilled': 24072,\n 'mine': 15559,\n 'check': 4923,\n 'connect': 5760,\n 'tweeple': 24951,\n 'hate': 11077,\n 'bored': 3679,\n 'freelesson': 9534,\n 'freistunde': 9550,\n 'hm': 11496,\n 'us': 25534,\n 'guess': 10708,\n 'dissappointed': 7259,\n 'days': 6605,\n 'romance': 20369,\n 'zero': 27516,\n 'id': 12029,\n 'rather': 19528,\n 'early': 7816,\n 'runbut': 20513,\n 'morning': 15917,\n 'runner': 20520,\n 'bah': 2636,\n 'coworker': 6045,\n 'ran': 19488,\n 'late': 13803,\n 'bag': 2629,\n 'smacked': 21913,\n 'knee': 13510,\n 'hurts': 11930,\n 'aw': 2419,\n 'torn': 24503,\n 'ace': 1109,\n 'hearts': 11206,\n 'hunchback': 11883,\n 'speaking': 22357,\n 'lost': 14479,\n 'friends': 9607,\n 'alone': 1591,\n 'sleepyi': 21844,\n 'haha': 10833,\n 'yes': 27262,\n 'give': 10156,\n 'easily': 7841,\n 'better': 3166,\n 'spoil': 22455,\n 'mum': 16142,\n 'let': 14009,\n 'kick': 13382,\n 'relax': 19857,\n 'nice': 16589,\n 'meal': 15189,\n 'bottle': 3729,\n 'favorite': 8842,\n 'red': 19722,\n 'mannnn': 14929,\n 'iphone': 12533,\n 'jealous': 12848,\n 'photoshoot': 18235,\n 'hes': 11367,\n 'awesome': 2447,\n 'worked': 26871,\n 'good': 10309,\n 'friend': 9598,\n 'yay': 27165,\n 'tonight': 24421,\n 'boo': 3597,\n 'soggy': 22099,\n 'right': 20231,\n 'chilliin': 5042,\n 'know': 13533,\n 'agent': 1334,\n 'smell': 21935,\n 'smoke': 21959,\n 'kitchenfire': 13476,\n 'celticslakers': 4738,\n 'rematch': 19897,\n 'sounds': 22271,\n 'think': 23971,\n 'lol': 14346,\n 'anyone': 1907,\n 'extra': 8629,\n 'keane': 13287,\n 'ticket': 24135,\n 'promise': 19069,\n 'buy': 4275,\n 'drink': 7614,\n 'take': 23464,\n 'rad': 19417,\n 'pics': 18274,\n 'fb': 8851,\n 'blog': 3446,\n 'flickr': 9195,\n 'etc': 8371,\n 'ride': 20219,\n 'catch': 4640,\n 'summer': 23098,\n 'til': 24174,\n 'pop': 18667,\n 'open': 17372,\n 'gorjuz': 10389,\n 'yea': 27185,\n 'kno': 13522,\n 'yesterday': 27286,\n 'tha': 23802,\n 'hospital': 11726,\n 'talked': 23484,\n 'said': 20643,\n 'popped': 18674,\n 'say': 20796,\n 'hi': 11392,\n 'things': 23965,\n 'ill': 12103,\n 'probably': 18992,\n 'head': 11149,\n 'guttah': 10756,\n 'wow': 26955,\n 'missin': 15654,\n 'baddd': 2613,\n 'sources': 22278,\n 'sooo': 22195,\n 'tired': 24243,\n 'hey': 11371,\n 'change': 4826,\n 'account': 1098,\n 'didnt': 7057,\n 'even': 8412,\n 'tell': 23699,\n 'thank': 23812,\n 'yyyyyyyyyoooooooooouuuuu': 27482,\n 'lucky': 14607,\n 'kidi': 13403,\n 'loserville': 14473,\n 'pity': 18392,\n 'oz': 17657,\n 'fell': 8903,\n 'asleep': 2208,\n 'sick': 21548,\n 'flu': 9251,\n 'reply': 19982,\n 'simfinger': 21632,\n 'problem': 18995,\n 'irape': 12554,\n 'parody': 17849,\n 'video': 25763,\n 'get': 10042,\n 'response': 20057,\n 'guys': 10768,\n 'star': 22609,\n 'wars': 26114,\n 'everyone': 8450,\n 'enjoy': 8210,\n 'holiday': 11560,\n 'uk': 25235,\n 'miles': 15513,\n 'essex': 8358,\n 'plenty': 18520,\n 'warning': 26105,\n 'arrive': 2134,\n 'least': 13917,\n 'beers': 3017,\n 'snoring': 22035,\n 'annoying': 1841,\n 'keeps': 13299,\n 'sleeping': 21828,\n 'honestly': 11634,\n 'wud': 27032,\n 'eva': 8402,\n 'left': 13948,\n 'bby': 2879,\n 'wish': 26709,\n 'isnt': 12598,\n 'quite': 19371,\n 'ready': 19587,\n 'post': 18730,\n 'publicly': 19172,\n 'beta': 3156,\n 'testing': 23774,\n 'cool': 5877,\n 'script': 20955,\n 'coded': 5425,\n 'sweeeeet': 23314,\n 'san': 20697,\n 'fran': 9481,\n 'mounce': 16004,\n 'lasts': 13800,\n 'bedtime': 3003,\n 'joined': 13006,\n 'pills': 18318,\n 'eating': 7864,\n 'ice': 12009,\n 'cream': 6124,\n 'getting': 10052,\n 'graduation': 10470,\n 'mothers': 15978,\n 'mums': 16151,\n 'caseys': 4613,\n 'gone': 10304,\n 'piddled': 18280,\n 'carpet': 4575,\n 'shes': 21323,\n 'prolly': 19062,\n 'freaked': 9506,\n 'cause': 4668,\n 'hemp': 11317,\n 'cloth': 5346,\n 'marvelous': 15025,\n 'unfortunately': 25347,\n 'read': 19581,\n 'story': 22806,\n 'adam': 1165,\n 'lambert': 13716,\n 'bed': 2979,\n 'nighty': 16661,\n 'night': 16632,\n 'saw': 20794,\n 'none': 16777,\n '3d': 554,\n 'baddies': 2614,\n '4am': 637,\n 'beach': 2899,\n 'pretty': 18920,\n 'certainly': 4766,\n 'cheers': 4945,\n 'huh': 11856,\n 'myhorrible': 16244,\n 'traumatic': 24671,\n 'jumping': 13127,\n 'cholla': 5098,\n 'accidentchollas': 1086,\n 'next': 16564,\n 'dirty': 7165,\n 'trickpieces': 24738,\n 'starting': 22635,\n 'emerge': 8117,\n 'hand': 10948,\n 'ouch': 17499,\n 'realy': 19626,\n 'wanted': 26071,\n 'everybodys': 8446,\n 'ocean': 17079,\n 'yourbiggestfan': 27395,\n 'real': 19593,\n 'lets': 14013,\n 'pens': 18061,\n 'wear': 26224,\n 'black': 3342,\n 'blip': 3426,\n 'apart': 1940,\n 'obvious': 17066,\n 'thanks': 23818,\n 'reblipping': 19646,\n 'song': 22161,\n 'safe': 20632,\n 'trip': 24754,\n 'joshy': 13053,\n 'pooyoull': 18666,\n 'knock': 13523,\n 'dead': 6667,\n 'speech': 22378,\n 'woof': 26818,\n 'allowed': 1566,\n 'add': 1172,\n 'email': 8091,\n 'adress': 1236,\n 'lococrime1stcom': 14321,\n 'leave': 13922,\n 'comment': 5580,\n 'tickets': 24137,\n 'afrin': 1294,\n 'nasal': 16362,\n 'spray': 22488,\n 'giant': 10079,\n 'teacup': 23620,\n 'acsm': 1139,\n 'unfathomable': 25334,\n 'kept': 13333,\n 'comfort': 5551,\n 'bedrooms': 2999,\n 'aww': 2484,\n 'daddy': 6433,\n 'works': 26897,\n 'almost': 1584,\n 'tries': 24742,\n 'sf': 21194,\n 'many': 14938,\n 'tests': 23775,\n 'todayyy': 24348,\n 'confident': 5725,\n 'anyy': 1928,\n 'done': 7421,\n 'sad': 20603,\n 'want': 26067,\n 'hang': 10970,\n 'hahaa': 10834,\n 'awesomee': 2449,\n 'holy': 11581,\n 'smokes': 21965,\n 'trek': 24703,\n 'freaking': 9508,\n 'awesomeeeee': 2450,\n 'fallout': 8738,\n 'making': 14843,\n 'jump': 13125,\n 'low': 14568,\n 'health': 11181,\n 'ammo': 1719,\n 'food': 9340,\n 'worry': 26930,\n 'itunes': 12683,\n 'songs': 22170,\n 'whats': 26457,\n 'gloomy': 10203,\n 'weather': 26229,\n 'sun': 23119,\n 'must': 16211,\n 'come': 5537,\n 'heading': 11162,\n 'victoria': 25758,\n 'gardens': 9895,\n 'impulse': 12206,\n 'buys': 4281,\n 'forward': 9436,\n 'maths': 15083,\n 'geography': 10020,\n 'english': 8205,\n 'french': 9552,\n 'exams': 8492,\n 'totalling': 24528,\n 'hours': 11763,\n 'poor': 18660,\n 'outside': 17544,\n 'garden': 9890,\n 'forget': 9392,\n 'suncream': 23134,\n 'prob': 18988,\n 'hun': 11882,\n 'dads': 6439,\n 'watching': 26152,\n 'mtv': 16094,\n 'sims2': 21646,\n 'minutee': 15611,\n 'absolutely': 1042,\n 'matter': 15093,\n 'chickadee': 5010,\n 'mia': 15426,\n 'totally': 24529,\n 'adore': 1230,\n 'music': 16186,\n 'cd': 4698,\n 'bmfing': 3516,\n 'webcam': 26240,\n 'chatting': 4908,\n 'nephews': 16484,\n 'nothing': 16872,\n 'spesh': 22404,\n 'bank': 2726,\n 'monday': 15811,\n 'nonetheless': 16778,\n 'need': 16435,\n 'ask': 2201,\n 'something': 22145,\n 'lmao': 14272,\n 'splinters': 22445,\n 'painfulbut': 17709,\n 'heroic': 11358,\n 'saving': 20790,\n 'mr': 16064,\n 'pickle': 18266,\n 'tweeting': 24977,\n 'sunday': 23137,\n '10th': 85,\n 'may': 15116,\n 'celebrating': 4715,\n 'yer': 27261,\n 'mom': 15775,\n 'decided': 6730,\n 'trans': 24640,\n 'frm': 9635,\n 'relaxed': 19860,\n 'natural': 16384,\n 'whole': 26542,\n 'looked': 14418,\n 'roots': 20402,\n 'age': 1329,\n 'instant': 12401,\n 'gratification': 10520,\n 'namaskar': 16317,\n 'namaste': 16318,\n 'marathi': 14945,\n 'people': 18068,\n 'word': 26850,\n 'naaaah': 16283,\n 'congrats': 5751,\n 'cuss': 6345,\n 'reward': 20158,\n 'humous': 11879,\n 'doritos': 7471,\n 'missed': 15649,\n 'movie': 16026,\n 'normal': 16832,\n 'group': 10639,\n 'pilots': 18321,\n 'large': 13778,\n 'airline': 1440,\n 'terrible': 23758,\n 'evans': 8408,\n 'call': 4393,\n 'childline': 5027,\n 'unfortunatley': 25348,\n 'aerlingus': 1265,\n 'longer': 14397,\n 'fly': 9264,\n 'copenhagen': 5906,\n 'ryanair': 20556,\n 'billund': 3266,\n 'drive': 7621,\n 'actually': 1157,\n 'google': 10346,\n 'term': 23747,\n 'sucks': 23028,\n 'tho': 24007,\n 'watched': 26147,\n 'win': 26650,\n 'fightlol': 8994,\n 'carwarmed': 4603,\n 'sprite': 22506,\n 'tastes': 23562,\n 'sore': 22227,\n 'throat': 24078,\n '11th': 115,\n 'cross': 6205,\n 'country': 6004,\n 'beat': 2928,\n 'dumbo': 7726,\n 'candle': 4472,\n 'wax': 26192,\n 'enjoyable': 8211,\n 'unassuming': 25284,\n 'unpretentious': 25423,\n 'suppose': 23211,\n 'endearingbecause': 8170,\n 'relate': 19849,\n 'valerias': 25631,\n 'lunch': 14639,\n 'arraving': 2124,\n 'cousins': 6028,\n 'babtizm': 2540,\n 'whatever': 26453,\n 'spell': 22389,\n 'goooooddd': 10363,\n 'tweets': 24980,\n 'three': 24063,\n 'workout': 26895,\n 'mention': 15337,\n 'glasses': 10188,\n 'fine': 9055,\n 'walk': 26031,\n '20': 290,\n 'cruisers': 6226,\n 'ones': 17297,\n 'lmfao': 14280,\n 'mmmmmmmm': 15707,\n 'neither': 16472,\n 'two': 25120,\n 'hour': 11761,\n 'lunchbreak': 14642,\n 'yeah': 27192,\n 'bugger': 4108,\n 'forgot': 9401,\n 'washing': 26125,\n 'machine': 14744,\n 'laurie': 13847,\n 'sending': 21079,\n 'blessings': 3410,\n 'healing': 11180,\n 'thoughts': 24047,\n 'peace': 17992,\n 'hurtsreally': 11932,\n 'ah': 1370,\n 'feeling': 8890,\n 'cookers': 5869,\n 'dad': 6429,\n 'modem': 15737,\n 'offline': 17132,\n 'god': 10254,\n 'bless': 3407,\n '3g': 557,\n 'network': 16517,\n 'tim': 24183,\n 'schedule': 20854,\n 'brutal': 4032,\n 'nope': 16827,\n 'coquitlam': 5918,\n 'parent': 17832,\n 'teacher': 23615,\n 'boring': 3702,\n 'skl': 21766,\n 'saturday': 20772,\n 'lichfield': 14067,\n 'tweetup': 24987,\n 'else': 8078,\n 'booming': 3634,\n 'thunder': 24108,\n 'storm': 22800,\n 'maybe': 15120,\n 'bevvies': 3178,\n '2day': 421,\n 'twngreat': 25118,\n 'first': 9108,\n 'myers': 16241,\n 'wout': 26952,\n 'lydia': 14692,\n 'excited': 8512,\n 'ever': 8425,\n 'url': 25525,\n 'previous': 18927,\n 'timer': 24203,\n 'removed': 19926,\n 'space': 22305,\n 'messed': 15373,\n 'es': 8331,\n 'iv': 12694,\n 'hurt': 11923,\n 'tooth': 24471,\n 'eilish': 8001,\n 'cassie': 4627,\n 'drawing': 7570,\n 'competiton': 5643,\n 'draw': 7568,\n 'cookies': 5871,\n 'pineapples': 18335,\n 'auditions': 2334,\n 'mander': 14897,\n 'text': 23783,\n 'orreply': 17466,\n 'please': 18490,\n 'nooooo': 16812,\n 'secret': 21004,\n 'namerebecca': 16326,\n 'neice': 16459,\n 'grown': 10651,\n 'fixed': 9138,\n 'hopes': 11687,\n 'cars': 4591,\n 'illness': 12107,\n 'terminal': 23748,\n 'following': 9321,\n 'tweet': 24957,\n 'siri': 21682,\n 'woulda': 26948,\n 'honeybut': 11638,\n 'xmen': 27078,\n 'origins': 17455,\n 'wolverine': 26784,\n 'loved': 14525,\n 'voted': 25920,\n 'personal': 18124,\n 'myspace': 16257,\n 'keep': 13295,\n 'talking': 23488,\n 'fakes': 8727,\n 'helped': 11307,\n 'thru': 24096,\n 'hrdest': 11806,\n 'life': 14087,\n 'finally': 9037,\n 'marriage': 15005,\n 'counseling': 5994,\n '420': 610,\n 'baby': 2541,\n 'high': 11411,\n 'ended': 8172,\n 'stupid': 22958,\n 'rats': 19531,\n 'impromptu': 12197,\n 'pool': 18646,\n 'party': 17871,\n 'except': 8504,\n 'swim': 23345,\n 'whilst': 26498,\n 'gumoww': 10734,\n 'year': 27211,\n 'hella': 11290,\n 'official': 17129,\n 'hear': 11188,\n 'goooooooooooood': 10376,\n 'morrrrrrrrning': 15958,\n 'twitterville': 25105,\n 'phew': 18187,\n 'note': 16865,\n 'runs': 20525,\n 'issueã': 12613,\n 'vote': 25919,\n 'every': 8442,\n 'starving': 22641,\n 'diet': 7073,\n 'killing': 13424,\n 'eat': 7858,\n '8pm': 887,\n 'talk': 23483,\n 'soo': 22181,\n 'boredim': 3689,\n 'deffo': 6787,\n 'missing': 15655,\n 'channels': 4837,\n 'nite': 16699,\n 'bday': 2890,\n 'concert': 5697,\n 'nicotine': 16617,\n 'replacement': 19972,\n 'patch': 17917,\n 'far': 8787,\n 'bit': 3308,\n 'twitchy': 25031,\n 'sanderson': 20707,\n 'twatter': 24936,\n 'lately': 13806,\n 'either': 8010,\n 'replies': 19979,\n 'turn': 24903,\n 'voice': 25890,\n 'couple': 6010,\n 'ago': 1350,\n 'parked': 17840,\n 'gets': 10050,\n 'hit': 11480,\n 'ive': 12697,\n 'heard': 11190,\n 'fall': 8732,\n 'nightmares': 16646,\n 'huggles': 11848,\n 'creeper': 6150,\n 'disappointed': 7177,\n 'cyberstalking': 6391,\n 'skills': 21744,\n 'privacy': 18978,\n 'headache': 11152,\n 'moms': 15799,\n 'grabbing': 10444,\n 'coffee': 5433,\n 'breakfast': 3852,\n 'thinking': 23976,\n 'tonightand': 24423,\n 'changes': 4829,\n 'major': 14826,\n 'chop': 5105,\n 'handle': 10958,\n 'fame': 8745,\n 'updated': 25464,\n 'sober': 22060,\n 'tanghaling': 23509,\n 'tapat': 23528,\n 'dude': 7707,\n 'wild': 26619,\n 'plan': 18425,\n 'never': 16527,\n 'icarly': 12007,\n 'son': 22158,\n 'huge': 11843,\n 'crush': 6240,\n 'miranda': 15619,\n 'james': 12770,\n 'carville': 4601,\n 'store': 22795,\n 'bald': 2671,\n 'yellow': 27254,\n 'means': 15200,\n 'youre': 27396,\n 'vancouver': 25647,\n 'hahah': 10837,\n 'smooth': 21972,\n 'chrome': 5141,\n 'ew': 8478,\n 'traffic': 24609,\n 'downloading': 7520,\n 'trying': 24826,\n 'sneak': 22010,\n 'lil': 14135,\n 'homework': 11622,\n 'main': 14816,\n 'priority': 18972,\n 'name': 16320,\n 'realize': 19605,\n 'youve': 27421,\n 'happiest': 11003,\n 'walking': 26036,\n 'class': 5254,\n 'bikeespecially': 3248,\n 'nesmith': 16502,\n 'failed': 8708,\n 'inspection': 12383,\n 'pass': 17891,\n 'wooven': 26847,\n 'woantitip': 26770,\n 'bracket': 3793,\n 'sold': 22109,\n 'woven': 26954,\n 'worse': 26933,\n 'taxes': 23586,\n 'jonas': 13023,\n 'brothers': 3998,\n 'live': 14236,\n 'rocking': 20330,\n 'hard': 11023,\n 'world': 26914,\n '35mins': 532,\n '1hr': 273,\n '20mins': 319,\n 'wave': 26184,\n 'demo': 6861,\n 'looks': 14426,\n 'lot': 14482,\n 'test': 23770,\n 'sleepy': 21842,\n 'tabz': 23429,\n 'listened': 14207,\n 'episode': 8279,\n 'jossd': 13057,\n 'exception': 8506,\n 'short': 21436,\n 'larenz': 13776,\n 'fineass': 9057,\n 'tate': 23570,\n 'yum': 27449,\n 'screw': 20949,\n 'reviews': 20144,\n 'enough': 8224,\n 'dominic': 7410,\n 'monaghan': 15806,\n 'liking': 14134,\n 'followed': 9311,\n 'recently': 19662,\n 'offended': 17111,\n 'limit': 14148,\n 'hopefully': 11682,\n 'hmmm': 11500,\n 'meant': 15202,\n 'eluded': 8085,\n 'brand': 3817,\n 'media': 15223,\n 'spa': 22304,\n 'meeting': 15252,\n 'vic': 25749,\n 'tavares': 23584,\n 'blessed': 3408,\n 'always': 1639,\n 'thx': 24123,\n 'luv': 14673,\n 'thereto': 23929,\n 'represent': 19996,\n 'blackberries': 3343,\n 'okay': 17197,\n 'dedicating': 6762,\n '300th': 477,\n 'fact': 8698,\n 'apple': 1985,\n 'crack': 6059,\n 'glass': 10186,\n 'screen': 20939,\n 'could': 5986,\n 'turns': 24910,\n 'sass': 20757,\n 'detect': 6975,\n 'long': 14394,\n 'ahaha': 1374,\n 'sports': 22475,\n 'bar': 2745,\n 'shatranjanpoli': 21264,\n ...}"
     },
     "metadata": {},
     "execution_count": 15
    }
   ],
   "source": [
    "vector.vocabulary_"
   ]
  }
 ]
}